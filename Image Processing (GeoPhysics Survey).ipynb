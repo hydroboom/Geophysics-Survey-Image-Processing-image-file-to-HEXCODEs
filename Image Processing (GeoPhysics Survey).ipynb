{
 "cells": [
  {
   "cell_type": "markdown",
   "id": "c369b9bf-b562-4dd1-b2fe-7c886edbaacd",
   "metadata": {},
   "source": [
    "## Image Processing: Obtaining resistivity data in HEXCODE from Geophysics data (image)\n",
    "\n",
    "### 📌 Why This Notebook?\n",
    "In geophysics, **terrameter readings** provide valuable insights into subsurface resistivity. However, in this case, the raw numerical data is unavailable—I only have **images** of these readings extracted from presentation slides.\n",
    "\n",
    "### 🔍 The Manual Process\n",
    "Normally, I would:\n",
    "1. **Manually extract color values** from the images.\n",
    "2. **Cross-check each color** against a resistivity scale/legend.\n",
    "3. **Manually enter resistivity values** into a GIS attribute table.\n",
    "4. **Generate depth-based resistivity rasters** in GIS using multiple cross-sections.\n",
    "\n",
    "This process can be **slow, repetitive, and tedious**, especially when working with multiple images.\n",
    "\n",
    "### 🚀 What This Notebook Does\n",
    "To **automate** the process, this script:\n",
    "✔️ Reads the **terrameter image** and overlays a structured **grid**.  \n",
    "✔️ Extracts the **most common color** in each grid cell.  \n",
    "✔️ Converts colors to **HEX values** for easy processing.  \n",
    "✔️ Saves the extracted color data in a structured format (**CSV & Excel heatmap**).  \n",
    "\n",
    "### ⏭️ Next Steps\n",
    "- Use **coordinate data (X, Y, Z)** to georeference the extracted values.  \n",
    "- Replace **HEX colors** with actual **resistivity values** using the legend from terrameter reading + interpretations of what they mean.  \n",
    "- Integrate the processed data into **GIS** to generate resistivity-based depth rasters from multiple cross-sections.  \n",
    "\n",
    "By automating this **first step**, I can **significantly speed up** the process of converting image-based terrameter readings into **usable geospatial data**."
   ]
  },
  {
   "cell_type": "code",
   "execution_count": 39,
   "id": "44c171b8-4447-419d-acde-cf0da58ba5be",
   "metadata": {},
   "outputs": [],
   "source": [
    "import numpy as np\n",
    "import pandas as pd\n",
    "import openpyxl\n",
    "from openpyxl.styles import PatternFill\n",
    "from PIL import Image\n",
    "from collections import Counter"
   ]
  },
  {
   "cell_type": "code",
   "execution_count": 40,
   "id": "24064f3b-73c0-49bc-ba9f-e7c7d2d921f8",
   "metadata": {},
   "outputs": [
    {
     "name": "stdout",
     "output_type": "stream",
     "text": [
      "Grid data saved to grid_color_data_fixed.csv\n"
     ]
    }
   ],
   "source": [
    "# --------------------------------------\n",
    "# Step 1: Load Image and Extract Grid Data\n",
    "# --------------------------------------\n",
    "\n",
    "'''\n",
    "The grid_overlayed_s2.png is a sample image file that contains manually drawn grids.  \n",
    "These grids do not affect the color extraction process, except perhaps very slightly due to the grid pixels,  \n",
    "which is negligible since the code identifies the most common color in each grid cell.  \n",
    "\n",
    "I manually added the grids beforehand to visualize the structure and assess whether the resolution  \n",
    "was coarse but sufficient for my needs. Based on the image size in pixels, I predetermined the  \n",
    "grid dimensions to be 40 × 9, but this may vary depending on the image you use.  \n",
    "\n",
    "This script primarily uses **PIL** to convert an image into a **mosaic of grid cells**  \n",
    "based on a user-defined cell size. From each cell, the most common colour is obtained, which is later \n",
    "replaced by the corresponding resistivity value of that section's resistivity legend.\n",
    "'''\n",
    "\n",
    "image_path = \"image.png\"\n",
    "output_csv = \"grid_color_data_fixed.csv\"\n",
    "\n",
    "# Load the image\n",
    "image = Image.open(image_path)\n",
    "pixels = image.convert('RGB')\n",
    "width, height = image.size\n",
    "\n",
    "# Define grid dimensions (40 columns x 9 rows)\n",
    "num_cols, num_rows = 40, 9\n",
    "grid_width_px = width / num_cols ## this is X, width\n",
    "grid_height_px = height / num_rows ## this is Z, elevation\n",
    "\n",
    "# Prepare to store extracted data\n",
    "grid_data = []\n",
    "\n",
    "# Function to extract most common color from a grid cell\n",
    "def extract_most_common_color(x_start, z_start):\n",
    "    grid_pixels = [pixels.getpixel((x, z)) \n",
    "                   for z in range(int(z_start), int(z_start + grid_height_px))\n",
    "                   for x in range(int(x_start), int(x_start + grid_width_px))]\n",
    "    return Counter(grid_pixels).most_common(1)[0][0]\n",
    "\n",
    "# Loop through each grid cell\n",
    "for row in range(num_rows):\n",
    "    for col in range(num_cols):\n",
    "        x_start = col * grid_width_px\n",
    "        z_start = row * grid_height_px\n",
    "        most_common_color = extract_most_common_color(x_start, z_start)\n",
    "        hex_color = '#{:02x}{:02x}{:02x}'.format(*most_common_color)\n",
    "        grid_data.append([col, row, most_common_color, hex_color])\n",
    "\n",
    "# Create DataFrame and save to CSV\n",
    "df = pd.DataFrame(grid_data, columns=['Grid_X', 'Grid_Z', 'RGB_Color', 'Hex_Color'])  ## The image is a longitudinal xsec, so X is width and Z is depth.\n",
    "df.to_csv(output_csv, index=False)\n",
    "print(f\"Grid data saved to {output_csv}\")"
   ]
  },
  {
   "cell_type": "code",
   "execution_count": 41,
   "id": "cb2e5926-9afa-49cc-8835-debd714d2192",
   "metadata": {},
   "outputs": [],
   "source": [
    "'''\n",
    "The following two steps are optional. They are only included to visualize the resolution after extraction.  \n",
    "You can skip these steps entirely if you don’t need a visualization.  \n",
    "\n",
    "In my case, for the geospatial analysis I needed to perform,  \n",
    "the CSV file from Step 1 was sufficient to proceed with GIS-related tasks.\n",
    "'''\n",
    "\n",
    "# --------------------------------------\n",
    "# Step 2: Reshape Data for Heatmap\n",
    "# --------------------------------------\n",
    "def reshape_csv(input_csv, output_csv):\n",
    "    df = pd.read_csv(input_csv)\n",
    "    reshaped_df = df.pivot(index='Grid_Z', columns='Grid_X', values='Hex_Color')\n",
    "    reshaped_df.to_csv(output_csv, index=True)\n",
    "    print(f\"Reshaped data saved to {output_csv}\")\n",
    "    return reshaped_df\n",
    "\n",
    "# --------------------------------------\n",
    "# Step 3: Create Heatmap in Excel\n",
    "# --------------------------------------\n",
    "def create_excel_heatmap(reshaped_df, output_excel):\n",
    "    workbook = openpyxl.Workbook()\n",
    "    sheet = workbook.active\n",
    "    \n",
    "    for row in range(reshaped_df.shape[0]):\n",
    "        for col in range(reshaped_df.shape[1]):\n",
    "            hex_color = reshaped_df.iloc[row, col]\n",
    "            fill_color = PatternFill(start_color=hex_color.lstrip('#'), \n",
    "                                     end_color=hex_color.lstrip('#'), \n",
    "                                     fill_type='solid')\n",
    "            cell = sheet.cell(row=row+1, column=col+1)\n",
    "            cell.fill = fill_color\n",
    "    \n",
    "    workbook.save(output_excel)\n",
    "    print(f\"Heatmap saved to {output_excel}\")\n",
    "\n"
   ]
  },
  {
   "cell_type": "code",
   "execution_count": 42,
   "id": "10789c92-ab93-4991-9a6a-0408c637ea3d",
   "metadata": {},
   "outputs": [
    {
     "name": "stdout",
     "output_type": "stream",
     "text": [
      "Reshaped data saved to reshaped_grid_data.csv\n",
      "Heatmap saved to heatmap.xlsx\n"
     ]
    }
   ],
   "source": [
    "# --------------------------------------\n",
    "# Step 4: Run the Full Process\n",
    "# --------------------------------------\n",
    "csv_output = \"grid_color_data_fixed.csv\"\n",
    "reshaped_csv = \"reshaped_grid_data.csv\"\n",
    "excel_output = \"heatmap.xlsx\"\n",
    "\n",
    "reshaped_df = reshape_csv(csv_output, reshaped_csv)\n",
    "create_excel_heatmap(reshaped_df, excel_output)"
   ]
  }
 ],
 "metadata": {
  "kernelspec": {
   "display_name": "Python [conda env:base] *",
   "language": "python",
   "name": "conda-base-py"
  },
  "language_info": {
   "codemirror_mode": {
    "name": "ipython",
    "version": 3
   },
   "file_extension": ".py",
   "mimetype": "text/x-python",
   "name": "python",
   "nbconvert_exporter": "python",
   "pygments_lexer": "ipython3",
   "version": "3.11.11"
  }
 },
 "nbformat": 4,
 "nbformat_minor": 5
}
